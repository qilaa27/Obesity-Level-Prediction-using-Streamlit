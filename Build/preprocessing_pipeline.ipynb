{
 "cells": [
  {
   "cell_type": "code",
   "execution_count": 14,
   "id": "a34fb421",
   "metadata": {},
   "outputs": [],
   "source": [
    "from sklearn import set_config\n",
    "set_config(display=\"diagram\")"
   ]
  },
  {
   "cell_type": "code",
   "execution_count": 15,
   "id": "07e4f895",
   "metadata": {},
   "outputs": [],
   "source": [
    "import pandas as pd\n",
    "df = pd.read_csv(\"ObesityDataSet2.csv\")"
   ]
  },
  {
   "cell_type": "code",
   "execution_count": 16,
   "id": "064a8fd3",
   "metadata": {},
   "outputs": [],
   "source": [
    "import numpy as np\n",
    "from sklearn.model_selection import train_test_split\n",
    "from sklearn.pipeline import Pipeline\n",
    "from sklearn.preprocessing import StandardScaler, FunctionTransformer\n",
    "from sklearn.compose import ColumnTransformer\n",
    "from sklearn.impute import SimpleImputer\n",
    "from imblearn.over_sampling import SMOTE\n",
    "from imblearn.pipeline import Pipeline as ImbPipeline\n",
    "import xgboost as xgb\n",
    "import pickle"
   ]
  },
  {
   "cell_type": "markdown",
   "id": "d34aa7ab",
   "metadata": {},
   "source": [
    "#### Preprocessing"
   ]
  },
  {
   "cell_type": "code",
   "execution_count": 17,
   "id": "174feed6",
   "metadata": {},
   "outputs": [],
   "source": [
    "df['Age'] = df['Age'].str.replace('years', '', case=False).str.strip()\n",
    "df['Age'] = pd.to_numeric(df['Age'], errors='coerce')\n",
    "df['Age'] = df['Age'].astype(int)"
   ]
  },
  {
   "cell_type": "markdown",
   "id": "ab5f5415",
   "metadata": {},
   "source": [
    "#### Impute Missing Value"
   ]
  },
  {
   "cell_type": "code",
   "execution_count": 18,
   "id": "34b6ac5a",
   "metadata": {},
   "outputs": [],
   "source": [
    "df['FCVC'] = df['FCVC'].fillna(df['FCVC'].mean())\n",
    "df['MTRANS'] = df['MTRANS'].fillna(df['MTRANS'].mode()[0])"
   ]
  },
  {
   "cell_type": "markdown",
   "id": "dc32375b",
   "metadata": {},
   "source": [
    "#### Encode"
   ]
  },
  {
   "cell_type": "code",
   "execution_count": 19,
   "id": "14af989d",
   "metadata": {},
   "outputs": [],
   "source": [
    "binary_mapping = {\n",
    "    \"Gender\": {\"Female\": 0, \"Male\": 1},\n",
    "    \"family_history_with_overweight\": {\"no\": 0, \"yes\": 1},\n",
    "    \"FAVC\": {\"no\": 0, \"yes\": 1},\n",
    "    \"SMOKE\": {\"no\": 0, \"yes\": 1},\n",
    "    \"SCC\": {\"no\": 0, \"yes\": 1}\n",
    "}\n",
    "df = df.replace(binary_mapping)\n",
    "\n",
    "caec_mapping = {'no': 0, 'Sometimes': 1, 'Frequently': 2, 'Always': 3}\n",
    "df['CAEC'] = df['CAEC'].astype(str).str.strip().replace(caec_mapping)\n",
    "\n",
    "calc_mapping = {'no': 0, 'Sometimes': 1, 'Frequently': 2, 'Always': 3}\n",
    "df['CALC'] = df['CALC'].astype(str).str.strip().replace(calc_mapping)\n",
    "\n",
    "mtrans_mapping = {'Automobile': 0, 'Bike': 1, 'Motorbike': 2, 'Public_Transportation': 3, 'Walking': 4}\n",
    "df['MTRANS'] = df['MTRANS'].astype(str).str.strip().replace(mtrans_mapping)"
   ]
  },
  {
   "cell_type": "code",
   "execution_count": 20,
   "id": "ac260c7b",
   "metadata": {},
   "outputs": [],
   "source": [
    "target_mapping = {\n",
    "    'Insufficient_Weight': 0,\n",
    "    'Normal_Weight': 1,\n",
    "    'Overweight_Level_I': 2,\n",
    "    'Overweight_Level_II': 3,\n",
    "    'Obesity_Type_I': 4,\n",
    "    'Obesity_Type_II': 5,\n",
    "    'Obesity_Type_III': 6\n",
    "}\n",
    "df['NObeyesdad'] = df['NObeyesdad'].replace(target_mapping)"
   ]
  },
  {
   "cell_type": "markdown",
   "id": "c4afef65",
   "metadata": {},
   "source": [
    "#### Splitting"
   ]
  },
  {
   "cell_type": "code",
   "execution_count": 21,
   "id": "9a7fa74b",
   "metadata": {},
   "outputs": [],
   "source": [
    "X = df.drop('NObeyesdad', axis=1)\n",
    "y = df['NObeyesdad']\n",
    "\n",
    "X_train, X_test, y_train, y_test = train_test_split(X, y, test_size=0.2, random_state=42)"
   ]
  },
  {
   "cell_type": "markdown",
   "id": "7fc1e6e8",
   "metadata": {},
   "source": [
    "#### Preprocessing Pipeline"
   ]
  },
  {
   "cell_type": "code",
   "execution_count": 22,
   "id": "eb7e33a9",
   "metadata": {},
   "outputs": [],
   "source": [
    "numeric_features = X.select_dtypes(include=['int64', 'float64']).columns\n",
    "\n",
    "preprocessor = ColumnTransformer([\n",
    "    ('scaler', StandardScaler(), numeric_features)\n",
    "])\n",
    "pipeline = ImbPipeline(steps=[\n",
    "    ('preprocessor', preprocessor),\n",
    "    ('smote', SMOTE(random_state=42)),\n",
    "    ('classifier', xgb.XGBClassifier(\n",
    "        n_estimators=100,\n",
    "        min_child_weight=2,\n",
    "        max_depth=10,\n",
    "        learning_rate=0.1,\n",
    "        subsample=1.0,\n",
    "        use_label_encoder=False,\n",
    "        eval_metric='mlogloss',\n",
    "        random_state=42\n",
    "    ))\n",
    "])"
   ]
  },
  {
   "cell_type": "markdown",
   "id": "ef4b1e6d",
   "metadata": {},
   "source": [
    "#### Fit Pipeline"
   ]
  },
  {
   "cell_type": "code",
   "execution_count": 23,
   "id": "68a62641",
   "metadata": {},
   "outputs": [
    {
     "name": "stdout",
     "output_type": "stream",
     "text": [
      "Pipeline berhasil disimpan ke final_pipeline_model.pkl\n"
     ]
    }
   ],
   "source": [
    "pipeline.fit(X_train, y_train)\n",
    "\n",
    "with open('final_pipeline_model.pkl', 'wb') as file:\n",
    "    pickle.dump(pipeline, file)\n",
    "\n",
    "print(\"Pipeline berhasil disimpan ke final_pipeline_model.pkl\")"
   ]
  },
  {
   "cell_type": "code",
   "execution_count": 24,
   "id": "02df773f",
   "metadata": {},
   "outputs": [
    {
     "name": "stdout",
     "output_type": "stream",
     "text": [
      "<class 'pandas.core.frame.DataFrame'>\n",
      "RangeIndex: 1056 entries, 0 to 1055\n",
      "Data columns (total 17 columns):\n",
      " #   Column                          Non-Null Count  Dtype  \n",
      "---  ------                          --------------  -----  \n",
      " 0   Gender                          1056 non-null   int64  \n",
      " 1   Age                             1056 non-null   int32  \n",
      " 2   Height                          1056 non-null   float64\n",
      " 3   Weight                          1056 non-null   float64\n",
      " 4   family_history_with_overweight  1056 non-null   int64  \n",
      " 5   FAVC                            1056 non-null   int64  \n",
      " 6   FCVC                            1056 non-null   float64\n",
      " 7   NCP                             1056 non-null   float64\n",
      " 8   CAEC                            1056 non-null   int64  \n",
      " 9   SMOKE                           1056 non-null   int64  \n",
      " 10  CH2O                            1056 non-null   float64\n",
      " 11  SCC                             1056 non-null   int64  \n",
      " 12  FAF                             1056 non-null   float64\n",
      " 13  TUE                             1056 non-null   float64\n",
      " 14  CALC                            1056 non-null   int64  \n",
      " 15  MTRANS                          1056 non-null   int64  \n",
      " 16  NObeyesdad                      1056 non-null   int64  \n",
      "dtypes: float64(7), int32(1), int64(9)\n",
      "memory usage: 136.2 KB\n"
     ]
    }
   ],
   "source": [
    "df.info()"
   ]
  }
 ],
 "metadata": {
  "kernelspec": {
   "display_name": "Python 3",
   "language": "python",
   "name": "python3"
  },
  "language_info": {
   "codemirror_mode": {
    "name": "ipython",
    "version": 3
   },
   "file_extension": ".py",
   "mimetype": "text/x-python",
   "name": "python",
   "nbconvert_exporter": "python",
   "pygments_lexer": "ipython3",
   "version": "3.7.6"
  }
 },
 "nbformat": 4,
 "nbformat_minor": 5
}
